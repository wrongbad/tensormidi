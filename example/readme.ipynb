{
 "cells": [
  {
   "cell_type": "markdown",
   "metadata": {},
   "source": [
    "# tensormidi\n",
    "\n",
    "Extremely fast midi parser returning dense numpy [structured arrays](https://numpy.org/doc/stable/user/basics.rec.html).\n",
    "\n",
    "Ideal for machine learning pipelines.\n",
    "\n",
    "Natively supported by [numba](https://numba.pydata.org/) so you can write optimized post-processors and tokenizers in python.\n",
    "\n",
    "Can parse ~10k midi files per second on single CPU core (Ryzen 7950X)"
   ]
  },
  {
   "cell_type": "code",
   "execution_count": null,
   "metadata": {},
   "outputs": [],
   "source": [
    "%pip install git+https://github.com/wrongbad/tensormidi.git"
   ]
  },
  {
   "cell_type": "code",
   "execution_count": 10,
   "metadata": {},
   "outputs": [
    {
     "name": "stdout",
     "output_type": "stream",
     "text": [
      "midi.shape=(1440,)\n",
      "midi.dtype=dtype((numpy.record, [('time', '<f8'), ('track', 'u1'), ('program', 'u1'), ('channel', 'u1'), ('type', 'u1'), ('key', 'u1'), ('value', 'u1')]), align=True)\n",
      "time 1.2\n",
      "track 4\n",
      "program 19\n",
      "channel 3\n",
      "type 144\n",
      "key 43\n",
      "value 80\n"
     ]
    }
   ],
   "source": [
    "import tensormidi\n",
    "\n",
    "midi = tensormidi.load('bach/catech7.mid')\n",
    "\n",
    "print(f'{midi.shape=}')\n",
    "print(f'{midi.dtype=}')\n",
    "for k in midi.dtype.names:\n",
    "    print(k, midi[0][k])"
   ]
  },
  {
   "cell_type": "markdown",
   "metadata": {},
   "source": [
    "All your favorite array-level ops just work"
   ]
  },
  {
   "cell_type": "code",
   "execution_count": 11,
   "metadata": {},
   "outputs": [
    {
     "name": "stdout",
     "output_type": "stream",
     "text": [
      "notes=720\n",
      "length=79.60473141666768\n"
     ]
    }
   ],
   "source": [
    "import numpy as np\n",
    "\n",
    "notes = np.sum(midi.type == tensormidi.NOTE_ON)\n",
    "length = np.max(midi.time)\n",
    "print(f'{notes=}')\n",
    "print(f'{length=}')"
   ]
  },
  {
   "cell_type": "markdown",
   "metadata": {},
   "source": [
    "Field accessors are normal numpy array views, understood by other libraries"
   ]
  },
  {
   "cell_type": "code",
   "execution_count": 12,
   "metadata": {},
   "outputs": [
    {
     "data": {
      "text/plain": [
       "tensor([ 1.2000,  1.2000,  1.2000,  ..., 79.6047, 79.6047, 79.6047],\n",
       "       dtype=torch.float64)"
      ]
     },
     "execution_count": 12,
     "metadata": {},
     "output_type": "execute_result"
    }
   ],
   "source": [
    "import torch\n",
    "\n",
    "torch.tensor(midi.time)"
   ]
  },
  {
   "cell_type": "markdown",
   "metadata": {},
   "source": [
    "## API\n",
    "\n",
    "```py\n",
    "def load(\n",
    "    filename: str,              # path to the midi file\n",
    "    merge_tracks: bool = True,  # merge all tracks into 1\n",
    "    seconds: bool = True,       # convert times to seconds (include tempo)\n",
    "    notes_only: bool = True,    # keep only NOTE_ON and NOTE_OFF events\n",
    "    default_program: int = 0,   # fallback when track doesn't specify program\n",
    "):\n",
    "```\n",
    "\n",
    "#### returns\n",
    "\n",
    "If `seconds == True` returns `tracks`\n",
    "\n",
    "Else returns `tracks, tempos, ticks_per_beat`\n",
    "\n",
    "#### tracks\n",
    "\n",
    "If `merge_tracks == True` then `tracks` is a single numpy array of event records.\n",
    "\n",
    "Else, `tracks` is a list of numpy arrays of event records.\n",
    "\n",
    "Numpy record array memory layout is the same as an array of structs in C/C++.\n",
    "\n",
    "field | dtype | description\n",
    "--- | --- | ---\n",
    "`time` | float64 | seconds or ticks since beginning of song \n",
    "`track` | uint8 | track index the event originates from\n",
    "`program` | uint8 | most recent program for the channel (or `default_program`)\n",
    "`channel` | uint8 | midi channel\n",
    "`type` | uint8 | event type (see below)\n",
    "`key` | uint8 | multi-purpose (see below)\n",
    "`value` | uint8 | multi-purpose (see below)\n",
    "\n",
    "Fields `key` and `value` are multi-purpose for various channel events\n",
    "\n",
    "type | key | value\n",
    "--- | --- | ---\n",
    "NOTE_ON | note | velocity\n",
    "NOTE_OFF | note | velocity\n",
    "POLY_AFTERTOUCH | note | pressure\n",
    "CONTROL | index | value\n",
    "CHAN_AFTERTOUCH | 0 | pressure\n",
    "PITCH_BEND | value&127 | value>>7\n",
    "\n",
    "`PROGRAM_CHANGE` events are consumed internally, populating the `program` field on later events.\n",
    "\n",
    "#### tempos\n",
    "\n",
    "Tempos is a record array specifying tempo changes throughout the song\n",
    "\n",
    "field | dtype | description\n",
    "--- | --- | ---\n",
    "`tick` | uint64 | ticks since beginning of song when change takes effect\n",
    "`sec_per_beat` | float64 | new tempo, in seconds per beat\n",
    "\n",
    "#### ticks_per_beat\n",
    "\n",
    "Scalar value indicating ticks per beat for the whole file\n",
    "\n",
    "For example, ticks per second is `ticks_per_beat / sec_per_beat` where `sec_per_beat` comes from latest tempo event."
   ]
  },
  {
   "cell_type": "markdown",
   "metadata": {},
   "source": [
    "## C++ Linkage\n",
    "\n",
    "The C++ library is header only with clean C++ APIs, unbiased by the python bindings.\n",
    "\n",
    "Header include path can be dumped with `python -m tensormidi.includes` for easy makefile use.\n",
    "\n",
    "Of course you could just clone this repo and point to `src/tensormidi/include` as well."
   ]
  },
  {
   "cell_type": "markdown",
   "metadata": {},
   "source": [
    "## Numba Example\n",
    "\n",
    "Numpy record arrays work perfectly with numba.\n",
    "\n",
    "Here is an example of how you can compute note durations with simple code that is also very fast."
   ]
  },
  {
   "cell_type": "code",
   "execution_count": null,
   "metadata": {},
   "outputs": [],
   "source": [
    "%pip install numba"
   ]
  },
  {
   "cell_type": "code",
   "execution_count": 7,
   "metadata": {},
   "outputs": [
    {
     "name": "stdout",
     "output_type": "stream",
     "text": [
      "pure python\n",
      "8.87 ms ± 79.1 µs per loop (mean ± std. dev. of 7 runs, 100 loops each)\n",
      "with numba\n",
      "2.43 µs ± 1.98 ns per loop (mean ± std. dev. of 7 runs, 100,000 loops each)\n",
      "\n",
      "[43 43 43 43 62 64 66 67 82 45 45 45 45 72 69 67 66 67 81 64]\n",
      "[1.05 1.05 1.05 1.05 0.13 0.13 0.13 0.86 0.26 1.05 1.05 1.05 1.05 0.78\n",
      " 0.13 0.13 0.13 0.13 0.26 0.13]\n"
     ]
    }
   ],
   "source": [
    "import numba\n",
    "\n",
    "# @numba.jit\n",
    "def durations(midi):\n",
    "    n = len(midi)\n",
    "    out = np.zeros(n, dtype=np.float32)\n",
    "    off_time = np.zeros((16, 128), dtype=np.float64)\n",
    "    for i in range(n-1, -1, -1):\n",
    "        e = midi[i]\n",
    "        if e.type == tensormidi.NOTE_ON:\n",
    "            out[i] = off_time[e.channel, e.key] - e.time\n",
    "        elif e.type == tensormidi.NOTE_OFF:\n",
    "            off_time[e.channel, e.key] = e.time\n",
    "    return out\n",
    "\n",
    "midi = tensormidi.load('bach/catech7.mid')\n",
    "\n",
    "print(\"pure python\")\n",
    "%timeit durs = durations(midi)\n",
    "\n",
    "print(\"with numba\")\n",
    "jitdurations = numba.jit(durations)\n",
    "%timeit durs = jitdurations(midi)\n",
    "\n",
    "durs = jitdurations(midi)\n",
    "durs = durs[midi.type == tensormidi.NOTE_ON]\n",
    "notes = midi[midi.type == tensormidi.NOTE_ON]\n",
    "\n",
    "print(\"\")\n",
    "print(notes[:20].key)\n",
    "print(durs[:20])"
   ]
  },
  {
   "cell_type": "markdown",
   "metadata": {},
   "source": [
    "## FluidSynth Example"
   ]
  },
  {
   "cell_type": "code",
   "execution_count": null,
   "metadata": {},
   "outputs": [],
   "source": [
    "%pip install pyfluidsynth"
   ]
  },
  {
   "cell_type": "code",
   "execution_count": null,
   "metadata": {},
   "outputs": [],
   "source": [
    "from IPython.display import Audio\n",
    "import fluidsynth\n",
    "import numpy as np\n",
    "\n",
    "samplerate = 44100\n",
    "synth = fluidsynth.Synth(samplerate=samplerate)\n",
    "synth.sfload('/usr/share/sounds/sf2/FluidR3_GM.sf2')\n",
    "\n",
    "midi = tensormidi.load('bach/catech7.mid')\n",
    "audio = np.zeros((0,2), np.int16)\n",
    "\n",
    "for m in midi:\n",
    "    nsamp = int(samplerate * m.time)\n",
    "    if nsamp > audio.shape[0]:\n",
    "        # make the audio engine catch up to current time\n",
    "        nsamp -= audio.shape[0]\n",
    "        chunk = synth.get_samples(nsamp).reshape(-1, 2)\n",
    "        audio = np.concatenate((audio, chunk))\n",
    "    \n",
    "    # every note event carries program id\n",
    "    synth.program_change(m.channel, m.program)\n",
    "    \n",
    "    if m.type == tensormidi.NOTE_ON:\n",
    "        synth.noteon(m.channel, m.key, m.value)\n",
    "    elif m.type == tensormidi.NOTE_OFF:\n",
    "        synth.noteoff(m.channel, m.key)\n",
    "    elif m.type == tensormidi.CONTROL:\n",
    "        synth.cc(m.channel, m.key, m.value)\n",
    "\n",
    "Audio(data=audio[:, 0], rate=samplerate)"
   ]
  },
  {
   "cell_type": "code",
   "execution_count": null,
   "metadata": {},
   "outputs": [],
   "source": [
    "!jupyter nbconvert --to markdown readme.ipynb --output ../README.md"
   ]
  }
 ],
 "metadata": {
  "kernelspec": {
   "display_name": ".venv",
   "language": "python",
   "name": "python3"
  },
  "language_info": {
   "codemirror_mode": {
    "name": "ipython",
    "version": 3
   },
   "file_extension": ".py",
   "mimetype": "text/x-python",
   "name": "python",
   "nbconvert_exporter": "python",
   "pygments_lexer": "ipython3",
   "version": "3.10.12"
  }
 },
 "nbformat": 4,
 "nbformat_minor": 2
}
