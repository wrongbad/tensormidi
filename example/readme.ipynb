{
 "cells": [
  {
   "cell_type": "markdown",
   "metadata": {},
   "source": [
    "# tensormidi\n",
    "\n",
    "Extremely fast no-nonsense midi parser, returning dense numpy [structured arrays](https://numpy.org/doc/stable/user/basics.rec.html).\n",
    "\n",
    "Ideal for machine learning pipelines.\n",
    "\n",
    "Natively supported by [numba](https://numba.pydata.org/) so you can write extremely fast post-processors in python.\n",
    "\n",
    "Can parse ~10k midi files per second on single CPU core (Ryzen 7950X)"
   ]
  },
  {
   "cell_type": "code",
   "execution_count": null,
   "metadata": {},
   "outputs": [],
   "source": [
    "%pip install git+https://github.com/wrongbad/tensormidi.git"
   ]
  },
  {
   "cell_type": "code",
   "execution_count": 1,
   "metadata": {},
   "outputs": [
    {
     "name": "stdout",
     "output_type": "stream",
     "text": [
      "(1440,)\n",
      "(numpy.record, {'names': ['dt', 'duration', 'program', 'track', 'type', 'channel', 'key', 'value'], 'formats': ['<u4', '<u4', 'u1', 'u1', 'u1', 'u1', 'u1', 'u1'], 'offsets': [0, 4, 8, 9, 10, 11, 12, 13], 'itemsize': 16, 'aligned': True})\n",
      "dt 150000\n",
      "duration 0\n",
      "program 81\n",
      "track 2\n",
      "type 144\n",
      "channel 1\n",
      "key 62\n",
      "value 80\n"
     ]
    }
   ],
   "source": [
    "import tensormidi\n",
    "import numpy as np\n",
    "\n",
    "midi = tensormidi.load('bach/catech7.mid')\n",
    "\n",
    "print(midi.shape)\n",
    "print(midi.dtype)\n",
    "for k in midi.dtype.names:\n",
    "    print(k, midi[4][k])"
   ]
  },
  {
   "cell_type": "code",
   "execution_count": 5,
   "metadata": {},
   "outputs": [
    {
     "name": "stdout",
     "output_type": "stream",
     "text": [
      "1440\n",
      "79.60461900000054\n"
     ]
    }
   ],
   "source": [
    "# numpy.recarray allows pythonic field access via attributes\n",
    "seconds = np.cumsum(midi.dt / 1e6)\n",
    "print(len(seconds))\n",
    "print(seconds[-1])"
   ]
  },
  {
   "cell_type": "markdown",
   "metadata": {},
   "source": [
    "### Output\n",
    "\n",
    "The track array output is a dense array of numpy `records` (the memory layout is the same as an array of structs in C/C++)\n",
    "\n",
    "`dt` - microseconds or \"ticks\" since previous event  \n",
    "`duration` - (NOTE_ON only) microseconds or \"ticks\" until NOTE_OFF  \n",
    "`program` - most recent program for the channel (default 0)  \n",
    "`track` - track index the event originates from  \n",
    "`type` - event type (see below)  \n",
    "`channel` - midi channel  \n",
    "`key` - multi-purpose (see below)  \n",
    "`value` - multi-purpose (see below)\n",
    "\n",
    "The event `type` can be one of 6 values:\n",
    "`NOTE_OFF`\n",
    "`NOTE_ON`\n",
    "`POLY_AFTERTOUCH`\n",
    "`CONTROL`\n",
    "`CHAN_AFTERTOUCH`\n",
    "`PITCH_BEND`\n",
    "\n",
    "Notably `program change` is handled internally, populating the `program` field instead.\n",
    "\n",
    "If `merge_tracks=True` a single track is returned containing all events chronologically. Otherwise a list of arrays is returned, one for each track.\n",
    "\n",
    "If `microseconds=True` then `dt` field is microseconds since previous event. Otherwise it is ticks. In microseconds mode, only the tracks are returned.\n",
    "\n",
    "In ticks mode, `load()` returns `tracks, tempos, ticks_per_beat` where tempos is an array of record `(tick, usec_per_beat)`. Note `tick` is since beginning of score, not a delta.\n",
    "\n",
    "If `notes_only=True` then only `NOTE_ON` and `NOTE_OFF` events are included.\n",
    "\n",
    "If `durations=True` then the `duration` field is computed, otherwise it contains `0`.\n",
    "\n",
    "If `remove_note_off=True` then `NOTE_OFF` events are also dropped.\n",
    "\n",
    "Fields `key` and `value` are multi-purpose for various channel events\n",
    "\n",
    "type | key | value\n",
    "--- | --- | ---\n",
    "NOTE_ON | note | velocity\n",
    "NOTE_OFF | note | velocity\n",
    "POLY_AFTERTOUCH | note | pressure\n",
    "CONTROL | index | value\n",
    "CHAN_AFTERTOUCH | 0 | pressure\n",
    "PITCH_BEND | value&127 | value>>7\n",
    "\n",
    "### C++ Linkage\n",
    "\n",
    "The C++ library is header only with clean C++ APIs, unbiased by the python bindings.\n",
    "\n",
    "Header include path can be dumped with `python -m tensormidi.includes` for easy makefile use.\n",
    "\n",
    "Of course you could just clone this repo and point to `src/tensormidi/include` as well."
   ]
  },
  {
   "cell_type": "markdown",
   "metadata": {},
   "source": [
    "### Numba Example\n",
    "\n",
    "Note: you can get durations by passing durations=True to tensormidi.load\n",
    "\n",
    "This mainly serves to show how naturally you can write highly optimized code on the tensormidi output records."
   ]
  },
  {
   "cell_type": "code",
   "execution_count": 17,
   "metadata": {},
   "outputs": [
    {
     "name": "stdout",
     "output_type": "stream",
     "text": [
      "pure python\n",
      "9.07 ms ± 30 µs per loop (mean ± std. dev. of 7 runs, 100 loops each)\n",
      "with numba\n",
      "2.5 µs ± 6.34 ns per loop (mean ± std. dev. of 7 runs, 100,000 loops each)\n",
      "\n",
      "[43 43 43 43 62 64 66 67 82 72 45 45 45 45 69 67 66 67 81 64]\n",
      "[1.05 1.05 1.05 1.05 0.13 0.13 0.13 0.86 0.26 0.78 1.05 1.05 1.05 1.05\n",
      " 0.13 0.13 0.13 0.13 0.26 0.13]\n"
     ]
    }
   ],
   "source": [
    "import numba\n",
    "\n",
    "# @numba.jit\n",
    "def durations(midi):\n",
    "    n = len(midi)\n",
    "    out = np.zeros(n, dtype=np.uint32)\n",
    "    off_time = np.zeros((16, 128), dtype=np.uint32)\n",
    "    time = 0\n",
    "    for i in range(n-1, -1, -1):\n",
    "        e = midi[i]\n",
    "        if e.type == tensormidi.NOTE_ON:\n",
    "            out[i] = time - off_time[e.channel, e.key]\n",
    "        elif e.type == tensormidi.NOTE_OFF:\n",
    "            off_time[e.channel, e.key] = time\n",
    "        time += e.dt\n",
    "    return out\n",
    "\n",
    "midi = tensormidi.load('bach/catech7.mid')\n",
    "\n",
    "print(\"pure python\")\n",
    "%timeit durs = durations(midi)\n",
    "\n",
    "print(\"with numba\")\n",
    "jitdurations = numba.jit(durations)\n",
    "%timeit durs = jitdurations(midi)\n",
    "\n",
    "durs = jitdurations(midi)\n",
    "durs = durs[midi.type == tensormidi.NOTE_ON] / 1e6\n",
    "notes = midi[midi.type == tensormidi.NOTE_ON]\n",
    "\n",
    "print(\"\")\n",
    "print(notes[:20].key)\n",
    "print(durs[:20])"
   ]
  },
  {
   "cell_type": "markdown",
   "metadata": {},
   "source": [
    "### FluidSynth Example"
   ]
  },
  {
   "cell_type": "code",
   "execution_count": null,
   "metadata": {},
   "outputs": [],
   "source": [
    "%pip install pyfluidsynth"
   ]
  },
  {
   "cell_type": "code",
   "execution_count": null,
   "metadata": {},
   "outputs": [],
   "source": [
    "from IPython.display import Audio\n",
    "import fluidsynth\n",
    "import numpy as np\n",
    "\n",
    "samplerate = 44100\n",
    "synth = fluidsynth.Synth(samplerate=samplerate)\n",
    "synth.sfload('/usr/share/sounds/sf2/FluidR3_GM.sf2')\n",
    "\n",
    "audio = np.zeros((0,2), np.int16)\n",
    "\n",
    "for m in midi:\n",
    "    dt = m.dt / 1e6 # microseconds to seconds\n",
    "    if dt:\n",
    "        nsamp = int(samplerate * dt)\n",
    "        chunk = synth.get_samples(nsamp).reshape(-1, 2)\n",
    "        audio = np.concatenate((audio, chunk))\n",
    "    \n",
    "    # every note event carries program id\n",
    "    synth.program_change(m.channel, m.program)\n",
    "    \n",
    "    if m.type == tensormidi.NOTE_ON:\n",
    "        synth.noteon(m.channel, m.key, m.value)\n",
    "    elif m.type == tensormidi.NOTE_OFF:\n",
    "        synth.noteoff(m.channel, m.key)\n",
    "    elif m.type == tensormidi.CONTROL:\n",
    "        synth.cc(m.channel, m.key, m.value)\n",
    "\n",
    "Audio(data=audio[:, 0], rate=samplerate)"
   ]
  },
  {
   "cell_type": "code",
   "execution_count": null,
   "metadata": {},
   "outputs": [],
   "source": [
    "!jupyter nbconvert --to markdown readme.ipynb --output ../README.md"
   ]
  },
  {
   "cell_type": "code",
   "execution_count": null,
   "metadata": {},
   "outputs": [],
   "source": []
  }
 ],
 "metadata": {
  "kernelspec": {
   "display_name": ".venv",
   "language": "python",
   "name": "python3"
  },
  "language_info": {
   "codemirror_mode": {
    "name": "ipython",
    "version": 3
   },
   "file_extension": ".py",
   "mimetype": "text/x-python",
   "name": "python",
   "nbconvert_exporter": "python",
   "pygments_lexer": "ipython3",
   "version": "3.10.12"
  }
 },
 "nbformat": 4,
 "nbformat_minor": 2
}
