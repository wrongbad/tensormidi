{
 "cells": [
  {
   "cell_type": "code",
   "execution_count": null,
   "metadata": {},
   "outputs": [],
   "source": [
    "%pip install pyfluidsynth"
   ]
  },
  {
   "cell_type": "code",
   "execution_count": null,
   "metadata": {},
   "outputs": [],
   "source": [
    "from os.path import expanduser\n",
    "import tensormidi\n",
    "\n",
    "filename = expanduser('~/dev/data/midi/bach/raw/catech7.mid')\n",
    "\n",
    "midi = tensormidi.load(filename)\n",
    "\n",
    "midi.shape, midi.dtype"
   ]
  },
  {
   "cell_type": "code",
   "execution_count": null,
   "metadata": {},
   "outputs": [],
   "source": [
    "from IPython.display import Audio\n",
    "import fluidsynth\n",
    "import numpy as np\n",
    "\n",
    "samplerate = 44100\n",
    "synth = fluidsynth.Synth(samplerate=samplerate)\n",
    "synth.sfload('/usr/share/sounds/sf2/FluidR3_GM.sf2')\n",
    "\n",
    "audio = np.zeros((0,2), np.int16)\n",
    "\n",
    "for m in midi:\n",
    "    dt = m['dt'] / 1e6 # microseconds to seconds\n",
    "    if dt:\n",
    "        nsamp = int(samplerate * dt)\n",
    "        chunk = synth.get_samples(nsamp).reshape(-1, 2)\n",
    "        audio = np.concatenate((audio, chunk))\n",
    "\n",
    "    chan = m['channel']\n",
    "    k, v = m['key'], m['value']\n",
    "    \n",
    "    synth.program_change(chan, m['program'])\n",
    "    \n",
    "    if m['type'] == tensormidi.NOTE_ON:\n",
    "        synth.noteon(chan, k, v)\n",
    "    elif m['type'] == tensormidi.NOTE_OFF:\n",
    "        synth.noteoff(chan, k)\n",
    "    elif m['type'] == tensormidi.CONTROL:\n",
    "        synth.cc(chan, k, v)\n",
    "\n",
    "Audio(data=audio[:, 0], rate=samplerate)"
   ]
  },
  {
   "cell_type": "code",
   "execution_count": null,
   "metadata": {},
   "outputs": [],
   "source": []
  }
 ],
 "metadata": {
  "kernelspec": {
   "display_name": ".venv",
   "language": "python",
   "name": "python3"
  },
  "language_info": {
   "codemirror_mode": {
    "name": "ipython",
    "version": 3
   },
   "file_extension": ".py",
   "mimetype": "text/x-python",
   "name": "python",
   "nbconvert_exporter": "python",
   "pygments_lexer": "ipython3",
   "version": "3.10.12"
  }
 },
 "nbformat": 4,
 "nbformat_minor": 2
}
